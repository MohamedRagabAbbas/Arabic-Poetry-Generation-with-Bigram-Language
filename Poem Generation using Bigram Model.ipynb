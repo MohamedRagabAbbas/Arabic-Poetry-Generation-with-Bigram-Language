{
 "cells": [
  {
   "cell_type": "code",
   "execution_count": 10,
   "id": "9308d752-748c-48f3-9f28-33cedc8c305f",
   "metadata": {},
   "outputs": [],
   "source": [
    "import torch\n",
    "import torch.nn as nn\n",
    "from torch.nn import functional as f\n",
    "import pandas as pd\n",
    "import numpy as np"
   ]
  },
  {
   "cell_type": "code",
   "execution_count": 4,
   "id": "a482c30d-0a2e-481c-9988-1071e6da390c",
   "metadata": {},
   "outputs": [],
   "source": [
    "df = pd.read_csv(\"data/Arabic_poem_reduced.csv\")"
   ]
  },
  {
   "cell_type": "code",
   "execution_count": 5,
   "id": "f5fccc42-605b-4f91-ae4a-04c616264564",
   "metadata": {},
   "outputs": [
    {
     "data": {
      "text/html": [
       "<div>\n",
       "<style scoped>\n",
       "    .dataframe tbody tr th:only-of-type {\n",
       "        vertical-align: middle;\n",
       "    }\n",
       "\n",
       "    .dataframe tbody tr th {\n",
       "        vertical-align: top;\n",
       "    }\n",
       "\n",
       "    .dataframe thead th {\n",
       "        text-align: right;\n",
       "    }\n",
       "</style>\n",
       "<table border=\"1\" class=\"dataframe\">\n",
       "  <thead>\n",
       "    <tr style=\"text-align: right;\">\n",
       "      <th></th>\n",
       "      <th>العصر</th>\n",
       "      <th>الشاعر</th>\n",
       "      <th>الديوان</th>\n",
       "      <th>القافية</th>\n",
       "      <th>البحر</th>\n",
       "      <th>الشطر الايسر</th>\n",
       "      <th>الشطر الايمن</th>\n",
       "    </tr>\n",
       "  </thead>\n",
       "  <tbody>\n",
       "    <tr>\n",
       "      <th>0</th>\n",
       "      <td>قبل الإسلام</td>\n",
       "      <td>عمرو بنِ قُمَيئَة</td>\n",
       "      <td>الديوان الرئيسي</td>\n",
       "      <td>د</td>\n",
       "      <td>الطويل</td>\n",
       "      <td>وَأَن تَجمَعا شَملي وَتَنتَظِرا غَدا</td>\n",
       "      <td>خَليلَيَّ لا تَستَعجِلا أَن تَزَوَّدا</td>\n",
       "    </tr>\n",
       "    <tr>\n",
       "      <th>1</th>\n",
       "      <td>قبل الإسلام</td>\n",
       "      <td>عمرو بنِ قُمَيئَة</td>\n",
       "      <td>الديوان الرئيسي</td>\n",
       "      <td>د</td>\n",
       "      <td>الطويل</td>\n",
       "      <td>وَلا سُرعَتي يَوماً بِسابِقَةِ الرَدى</td>\n",
       "      <td>فَما لَبَثٌ يَوماً بِسابِقٍ مَغنَمٍ</td>\n",
       "    </tr>\n",
       "    <tr>\n",
       "      <th>2</th>\n",
       "      <td>قبل الإسلام</td>\n",
       "      <td>عمرو بنِ قُمَيئَة</td>\n",
       "      <td>الديوان الرئيسي</td>\n",
       "      <td>د</td>\n",
       "      <td>الطويل</td>\n",
       "      <td>وَتَستَوجِبا مَنّاً عَلَيَّ وَتُحمَدا</td>\n",
       "      <td>وَإِن تُنظِراني اليَومَ أَقضِ لُبانَةً</td>\n",
       "    </tr>\n",
       "    <tr>\n",
       "      <th>3</th>\n",
       "      <td>قبل الإسلام</td>\n",
       "      <td>عمرو بنِ قُمَيئَة</td>\n",
       "      <td>الديوان الرئيسي</td>\n",
       "      <td>د</td>\n",
       "      <td>الطويل</td>\n",
       "      <td>تُؤامِرُني سِرّاً لِأَصرِمَ مَرثَدا</td>\n",
       "      <td>لَعَمرُكَ ما نَفسٌ بِجِدٍ رَشيدَةٍ</td>\n",
       "    </tr>\n",
       "    <tr>\n",
       "      <th>4</th>\n",
       "      <td>قبل الإسلام</td>\n",
       "      <td>عمرو بنِ قُمَيئَة</td>\n",
       "      <td>الديوان الرئيسي</td>\n",
       "      <td>د</td>\n",
       "      <td>الطويل</td>\n",
       "      <td>وَأَفرَعَ في لَومي مِراراً وَأَصعَدا</td>\n",
       "      <td>وَإِن ظَهَرَت مِنهُ قَوارِصُ جَمَّةٌ</td>\n",
       "    </tr>\n",
       "  </tbody>\n",
       "</table>\n",
       "</div>"
      ],
      "text/plain": [
       "         العصر             الشاعر          الديوان القافية   البحر  \\\n",
       "0  قبل الإسلام  عمرو بنِ قُمَيئَة  الديوان الرئيسي       د  الطويل   \n",
       "1  قبل الإسلام  عمرو بنِ قُمَيئَة  الديوان الرئيسي       د  الطويل   \n",
       "2  قبل الإسلام  عمرو بنِ قُمَيئَة  الديوان الرئيسي       د  الطويل   \n",
       "3  قبل الإسلام  عمرو بنِ قُمَيئَة  الديوان الرئيسي       د  الطويل   \n",
       "4  قبل الإسلام  عمرو بنِ قُمَيئَة  الديوان الرئيسي       د  الطويل   \n",
       "\n",
       "                            الشطر الايسر  \\\n",
       "0   وَأَن تَجمَعا شَملي وَتَنتَظِرا غَدا   \n",
       "1  وَلا سُرعَتي يَوماً بِسابِقَةِ الرَدى   \n",
       "2  وَتَستَوجِبا مَنّاً عَلَيَّ وَتُحمَدا   \n",
       "3    تُؤامِرُني سِرّاً لِأَصرِمَ مَرثَدا   \n",
       "4   وَأَفرَعَ في لَومي مِراراً وَأَصعَدا   \n",
       "\n",
       "                             الشطر الايمن  \n",
       "0   خَليلَيَّ لا تَستَعجِلا أَن تَزَوَّدا  \n",
       "1     فَما لَبَثٌ يَوماً بِسابِقٍ مَغنَمٍ  \n",
       "2  وَإِن تُنظِراني اليَومَ أَقضِ لُبانَةً  \n",
       "3      لَعَمرُكَ ما نَفسٌ بِجِدٍ رَشيدَةٍ  \n",
       "4    وَإِن ظَهَرَت مِنهُ قَوارِصُ جَمَّةٌ  "
      ]
     },
     "execution_count": 5,
     "metadata": {},
     "output_type": "execute_result"
    }
   ],
   "source": [
    "df.head()"
   ]
  },
  {
   "cell_type": "code",
   "execution_count": 21,
   "id": "33cffd63-12c0-4285-a0dd-200f707dc260",
   "metadata": {},
   "outputs": [],
   "source": [
    "lines = df.drop(['العصر', 'الشاعر', 'الديوان', 'القافية', 'البحر'], axis='columns')"
   ]
  },
  {
   "cell_type": "code",
   "execution_count": 22,
   "id": "9c78164b-3b12-4958-b8bc-f182d7fc839a",
   "metadata": {},
   "outputs": [
    {
     "data": {
      "text/html": [
       "<div>\n",
       "<style scoped>\n",
       "    .dataframe tbody tr th:only-of-type {\n",
       "        vertical-align: middle;\n",
       "    }\n",
       "\n",
       "    .dataframe tbody tr th {\n",
       "        vertical-align: top;\n",
       "    }\n",
       "\n",
       "    .dataframe thead th {\n",
       "        text-align: right;\n",
       "    }\n",
       "</style>\n",
       "<table border=\"1\" class=\"dataframe\">\n",
       "  <thead>\n",
       "    <tr style=\"text-align: right;\">\n",
       "      <th></th>\n",
       "      <th>الشطر الايسر</th>\n",
       "      <th>الشطر الايمن</th>\n",
       "    </tr>\n",
       "  </thead>\n",
       "  <tbody>\n",
       "    <tr>\n",
       "      <th>0</th>\n",
       "      <td>وَأَن تَجمَعا شَملي وَتَنتَظِرا غَدا</td>\n",
       "      <td>خَليلَيَّ لا تَستَعجِلا أَن تَزَوَّدا</td>\n",
       "    </tr>\n",
       "    <tr>\n",
       "      <th>1</th>\n",
       "      <td>وَلا سُرعَتي يَوماً بِسابِقَةِ الرَدى</td>\n",
       "      <td>فَما لَبَثٌ يَوماً بِسابِقٍ مَغنَمٍ</td>\n",
       "    </tr>\n",
       "    <tr>\n",
       "      <th>2</th>\n",
       "      <td>وَتَستَوجِبا مَنّاً عَلَيَّ وَتُحمَدا</td>\n",
       "      <td>وَإِن تُنظِراني اليَومَ أَقضِ لُبانَةً</td>\n",
       "    </tr>\n",
       "    <tr>\n",
       "      <th>3</th>\n",
       "      <td>تُؤامِرُني سِرّاً لِأَصرِمَ مَرثَدا</td>\n",
       "      <td>لَعَمرُكَ ما نَفسٌ بِجِدٍ رَشيدَةٍ</td>\n",
       "    </tr>\n",
       "    <tr>\n",
       "      <th>4</th>\n",
       "      <td>وَأَفرَعَ في لَومي مِراراً وَأَصعَدا</td>\n",
       "      <td>وَإِن ظَهَرَت مِنهُ قَوارِصُ جَمَّةٌ</td>\n",
       "    </tr>\n",
       "  </tbody>\n",
       "</table>\n",
       "</div>"
      ],
      "text/plain": [
       "                            الشطر الايسر  \\\n",
       "0   وَأَن تَجمَعا شَملي وَتَنتَظِرا غَدا   \n",
       "1  وَلا سُرعَتي يَوماً بِسابِقَةِ الرَدى   \n",
       "2  وَتَستَوجِبا مَنّاً عَلَيَّ وَتُحمَدا   \n",
       "3    تُؤامِرُني سِرّاً لِأَصرِمَ مَرثَدا   \n",
       "4   وَأَفرَعَ في لَومي مِراراً وَأَصعَدا   \n",
       "\n",
       "                             الشطر الايمن  \n",
       "0   خَليلَيَّ لا تَستَعجِلا أَن تَزَوَّدا  \n",
       "1     فَما لَبَثٌ يَوماً بِسابِقٍ مَغنَمٍ  \n",
       "2  وَإِن تُنظِراني اليَومَ أَقضِ لُبانَةً  \n",
       "3      لَعَمرُكَ ما نَفسٌ بِجِدٍ رَشيدَةٍ  \n",
       "4    وَإِن ظَهَرَت مِنهُ قَوارِصُ جَمَّةٌ  "
      ]
     },
     "execution_count": 22,
     "metadata": {},
     "output_type": "execute_result"
    }
   ],
   "source": [
    "lines.head()"
   ]
  },
  {
   "cell_type": "code",
   "execution_count": 32,
   "id": "d9ef5ba4-ae66-48c3-9060-d830886bc258",
   "metadata": {},
   "outputs": [],
   "source": [
    "poems = pd.DataFrame()\n",
    "poems['الشطر الكامل'] = df['الشطر الايمن'] + '    ' + df['الشطر الايسر']"
   ]
  },
  {
   "cell_type": "code",
   "execution_count": 33,
   "id": "07db1a61-ce13-412c-9790-53a79aa767ad",
   "metadata": {},
   "outputs": [
    {
     "data": {
      "text/html": [
       "<div>\n",
       "<style scoped>\n",
       "    .dataframe tbody tr th:only-of-type {\n",
       "        vertical-align: middle;\n",
       "    }\n",
       "\n",
       "    .dataframe tbody tr th {\n",
       "        vertical-align: top;\n",
       "    }\n",
       "\n",
       "    .dataframe thead th {\n",
       "        text-align: right;\n",
       "    }\n",
       "</style>\n",
       "<table border=\"1\" class=\"dataframe\">\n",
       "  <thead>\n",
       "    <tr style=\"text-align: right;\">\n",
       "      <th></th>\n",
       "      <th>الشطر الكامل</th>\n",
       "    </tr>\n",
       "  </thead>\n",
       "  <tbody>\n",
       "    <tr>\n",
       "      <th>0</th>\n",
       "      <td>خَليلَيَّ لا تَستَعجِلا أَن تَزَوَّدا    وَأَن...</td>\n",
       "    </tr>\n",
       "    <tr>\n",
       "      <th>1</th>\n",
       "      <td>فَما لَبَثٌ يَوماً بِسابِقٍ مَغنَمٍ    وَلا سُ...</td>\n",
       "    </tr>\n",
       "    <tr>\n",
       "      <th>2</th>\n",
       "      <td>وَإِن تُنظِراني اليَومَ أَقضِ لُبانَةً    وَتَ...</td>\n",
       "    </tr>\n",
       "    <tr>\n",
       "      <th>3</th>\n",
       "      <td>لَعَمرُكَ ما نَفسٌ بِجِدٍ رَشيدَةٍ    تُؤامِرُ...</td>\n",
       "    </tr>\n",
       "    <tr>\n",
       "      <th>4</th>\n",
       "      <td>وَإِن ظَهَرَت مِنهُ قَوارِصُ جَمَّةٌ    وَأَفر...</td>\n",
       "    </tr>\n",
       "  </tbody>\n",
       "</table>\n",
       "</div>"
      ],
      "text/plain": [
       "                                        الشطر الكامل\n",
       "0  خَليلَيَّ لا تَستَعجِلا أَن تَزَوَّدا    وَأَن...\n",
       "1  فَما لَبَثٌ يَوماً بِسابِقٍ مَغنَمٍ    وَلا سُ...\n",
       "2  وَإِن تُنظِراني اليَومَ أَقضِ لُبانَةً    وَتَ...\n",
       "3  لَعَمرُكَ ما نَفسٌ بِجِدٍ رَشيدَةٍ    تُؤامِرُ...\n",
       "4  وَإِن ظَهَرَت مِنهُ قَوارِصُ جَمَّةٌ    وَأَفر..."
      ]
     },
     "execution_count": 33,
     "metadata": {},
     "output_type": "execute_result"
    }
   ],
   "source": [
    "poems.head()"
   ]
  },
  {
   "cell_type": "code",
   "execution_count": 37,
   "id": "bccc786c-2939-4624-98b6-4cb9c897913a",
   "metadata": {},
   "outputs": [
    {
     "name": "stdout",
     "output_type": "stream",
     "text": [
      "خَليلَيَّ لا تَستَعجِلا أَن تَزَوَّدا    وَأَن تَجمَعا شَملي وَتَنتَظِرا غَدا\n"
     ]
    }
   ],
   "source": [
    "print(poems.loc[0]['الشطر الكامل'])"
   ]
  },
  {
   "cell_type": "code",
   "execution_count": null,
   "id": "784d50de-9761-45a8-9f9f-b23bae58db2b",
   "metadata": {},
   "outputs": [],
   "source": []
  }
 ],
 "metadata": {
  "kernelspec": {
   "display_name": "Python 3 (ipykernel)",
   "language": "python",
   "name": "python3"
  },
  "language_info": {
   "codemirror_mode": {
    "name": "ipython",
    "version": 3
   },
   "file_extension": ".py",
   "mimetype": "text/x-python",
   "name": "python",
   "nbconvert_exporter": "python",
   "pygments_lexer": "ipython3",
   "version": "3.11.7"
  }
 },
 "nbformat": 4,
 "nbformat_minor": 5
}
